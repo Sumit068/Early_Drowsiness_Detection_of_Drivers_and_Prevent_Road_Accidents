{
 "cells": [
  {
   "cell_type": "markdown",
   "id": "8300bb7a",
   "metadata": {},
   "source": [
    "# Training Dataset"
   ]
  },
  {
   "cell_type": "code",
   "execution_count": null,
   "id": "21274bfb",
   "metadata": {},
   "outputs": [],
   "source": [
    "import os\n",
    "import pathlib\n",
    "import cv2"
   ]
  },
  {
   "cell_type": "code",
   "execution_count": null,
   "id": "696a6c8a",
   "metadata": {},
   "outputs": [],
   "source": [
    "os.makedirs('data/images', exist_ok=True)\n",
    "os.makedirs('data/labels', exist_ok=True)\n",
    "path = 'data/images'"
   ]
  },
  {
   "cell_type": "code",
   "execution_count": null,
   "id": "7b087123",
   "metadata": {},
   "outputs": [],
   "source": [
    "#start capture images for training\n",
    "# press q to exit\n",
    "video = cv2.VideoCapture(0)\n",
    "img_count = len(list(pathlib.Path(path).glob('*')))\n",
    "while(True):\n",
    "    ret, frame = video.read()\n",
    "    cv2.imshow(\"Live\",frame)\n",
    "    key = cv2.waitKey(1)\n",
    "    if(key==ord(' ')):\n",
    "        cv2.imwrite(path+f'/img_{img_count}.jpg',frame)\n",
    "        img_count = img_count + 1\n",
    "        print(f'image{img_count} saved')\n",
    "    if(key==ord('q')):\n",
    "        break\n",
    "video.release()\n",
    "cv2.destroyAllWindows()"
   ]
  },
  {
   "cell_type": "code",
   "execution_count": null,
   "id": "6531f77d",
   "metadata": {},
   "outputs": [],
   "source": [
    "#cloning LabelImg\n",
    "!git clone https://github.com/HumanSignal/labelImg.git"
   ]
  },
  {
   "cell_type": "code",
   "execution_count": null,
   "id": "c15e44aa",
   "metadata": {},
   "outputs": [],
   "source": [
    "# install LabelImg requirements\n",
    "!pip install pyqt5 lxml --upgrade\n",
    "!cd labelImg && pyrcc5 -o libs/resources.py resources.qrc"
   ]
  },
  {
   "cell_type": "code",
   "execution_count": null,
   "id": "1cd6c591",
   "metadata": {},
   "outputs": [],
   "source": [
    "# before run this cell copy predefined-classes.txt and paste in labelImg/data\n",
    "# start labelImg and label all data\n",
    "!cd labelImg & python labelImg.py"
   ]
  },
  {
   "cell_type": "markdown",
   "id": "d9e238b5",
   "metadata": {},
   "source": [
    "# Testing Dataset"
   ]
  },
  {
   "cell_type": "code",
   "execution_count": null,
   "id": "4566581d",
   "metadata": {},
   "outputs": [],
   "source": [
    "os.makedirs('test/images', exist_ok=True)\n",
    "os.makedirs('test/labels', exist_ok=True)\n",
    "path = 'test/images'"
   ]
  },
  {
   "cell_type": "code",
   "execution_count": null,
   "id": "cfe90172",
   "metadata": {},
   "outputs": [],
   "source": [
    "# create dataset for testing\n",
    "video = cv2.VideoCapture(0)\n",
    "img_count = len(list(pathlib.Path(path).glob('*')))\n",
    "while(True):\n",
    "    ret, frame = video.read()\n",
    "    cv2.imshow(\"Live\",frame)\n",
    "    key = cv2.waitKey(1)\n",
    "    if(key==ord(' ')):\n",
    "        cv2.imwrite(path+f'/img_{img_count}.jpg',frame)\n",
    "        img_count = img_count + 1\n",
    "        print(f'image{img_count} saved')\n",
    "    if(key==ord('q')):\n",
    "        break\n",
    "video.release()\n",
    "cv2.destroyAllWindows()"
   ]
  },
  {
   "cell_type": "code",
   "execution_count": null,
   "id": "1c051195-e289-4e7f-b098-5a0202e31af7",
   "metadata": {},
   "outputs": [],
   "source": [
    "# start labelImg and label all data\n",
    "!cd labelImg & python labelImg.py"
   ]
  }
 ],
 "metadata": {
  "kernelspec": {
   "display_name": "Python 3 (ipykernel)",
   "language": "python",
   "name": "python3"
  },
  "language_info": {
   "codemirror_mode": {
    "name": "ipython",
    "version": 3
   },
   "file_extension": ".py",
   "mimetype": "text/x-python",
   "name": "python",
   "nbconvert_exporter": "python",
   "pygments_lexer": "ipython3",
   "version": "3.8.10"
  }
 },
 "nbformat": 4,
 "nbformat_minor": 5
}
