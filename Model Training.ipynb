{
 "cells": [
  {
   "cell_type": "markdown",
   "id": "3c61fc91",
   "metadata": {
    "id": "3c61fc91"
   },
   "source": [
    "# Training"
   ]
  },
  {
   "cell_type": "code",
   "execution_count": null,
   "id": "4b19ed9c",
   "metadata": {
    "colab": {
     "base_uri": "https://localhost:8080/"
    },
    "executionInfo": {
     "elapsed": 11654,
     "status": "ok",
     "timestamp": 1698147659634,
     "user": {
      "displayName": "Sumit Singh",
      "userId": "01491969471027989837"
     },
     "user_tz": -330
    },
    "id": "4b19ed9c",
    "outputId": "c6ee7e72-eb61-408a-896d-0eec0b3490ef"
   },
   "outputs": [],
   "source": [
    "#for google colab\n",
    "from google.colab import drive\n",
    "drive.mount('/content/drive')\n",
    "\n",
    "import utils\n",
    "display = utils.notebook_init\n",
    "\n",
    "%cd /content/drive/MyDrive/Drowsiness Detection\n",
    "!git clone https://github.com/ultralytics/yolov5  # clone\n",
    "%cd yolov5\n",
    "%pip install -qr requirements.txt  # install"
   ]
  },
  {
   "cell_type": "code",
   "execution_count": null,
   "id": "57eb7c10",
   "metadata": {
    "id": "57eb7c10",
    "outputId": "27c2e29c-1a89-44cf-e70f-474f70759958"
   },
   "outputs": [],
   "source": [
    "#for window (cpu only)\n",
    "!pip install torch torchvision torchaudio"
   ]
  },
  {
   "cell_type": "code",
   "execution_count": null,
   "id": "72fa7177",
   "metadata": {
    "colab": {
     "base_uri": "https://localhost:8080/"
    },
    "executionInfo": {
     "elapsed": 5871,
     "status": "ok",
     "timestamp": 1698147665496,
     "user": {
      "displayName": "Sumit Singh",
      "userId": "01491969471027989837"
     },
     "user_tz": -330
    },
    "id": "72fa7177",
    "outputId": "181a634e-b9a1-4c80-fdf6-755d0ac23b9e"
   },
   "outputs": [],
   "source": [
    "#for window\n",
    "!git clone https://github.com/ultralytics/yolov5  # clone\n",
    "%cd yolov5\n",
    "%pip install -qr requirements.txt  # install"
   ]
  },
  {
   "cell_type": "code",
   "execution_count": null,
   "id": "60e945c8",
   "metadata": {
    "executionInfo": {
     "elapsed": 9,
     "status": "ok",
     "timestamp": 1698147665498,
     "user": {
      "displayName": "Sumit Singh",
      "userId": "01491969471027989837"
     },
     "user_tz": -330
    },
    "id": "60e945c8"
   },
   "outputs": [],
   "source": [
    "import torch\n",
    "import numpy as np\n",
    "import pandas as pd"
   ]
  },
  {
   "cell_type": "code",
   "execution_count": null,
   "id": "584c60e5",
   "metadata": {
    "colab": {
     "base_uri": "https://localhost:8080/"
    },
    "executionInfo": {
     "elapsed": 7388351,
     "status": "ok",
     "timestamp": 1698136190633,
     "user": {
      "displayName": "Sumit Singh",
      "userId": "01491969471027989837"
     },
     "user_tz": -330
    },
    "id": "584c60e5",
    "outputId": "7f25c969-af7f-471c-b30c-f10e86e88d82"
   },
   "outputs": [],
   "source": [
    "!python train.py --img 320 --batch 16 --epochs 500 --data custom.yaml --weights yolov5l.pt"
   ]
  },
  {
   "cell_type": "markdown",
   "id": "58e7988c",
   "metadata": {
    "id": "58e7988c"
   },
   "source": [
    "# Testing"
   ]
  },
  {
   "cell_type": "code",
   "execution_count": null,
   "id": "9c470189",
   "metadata": {
    "colab": {
     "base_uri": "https://localhost:8080/"
    },
    "executionInfo": {
     "elapsed": 461704,
     "status": "ok",
     "timestamp": 1698142841010,
     "user": {
      "displayName": "Sumit Singh",
      "userId": "01491969471027989837"
     },
     "user_tz": -330
    },
    "id": "9c470189",
    "outputId": "27b8050a-e275-4411-922c-0d3074f94b75"
   },
   "outputs": [],
   "source": [
    "# provide model path on weights\n",
    "# change exp13 according trained model.\n",
    "!python val.py --weights runs/train/exp13/weights/best.pt --img 320 --data testing.yaml"
   ]
  }
 ],
 "metadata": {
  "colab": {
   "provenance": []
  },
  "kernelspec": {
   "display_name": "Python 3 (ipykernel)",
   "language": "python",
   "name": "python3"
  },
  "language_info": {
   "codemirror_mode": {
    "name": "ipython",
    "version": 3
   },
   "file_extension": ".py",
   "mimetype": "text/x-python",
   "name": "python",
   "nbconvert_exporter": "python",
   "pygments_lexer": "ipython3",
   "version": "3.8.10"
  }
 },
 "nbformat": 4,
 "nbformat_minor": 5
}
