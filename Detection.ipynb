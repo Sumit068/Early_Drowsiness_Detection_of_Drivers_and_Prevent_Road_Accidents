{
 "cells": [
  {
   "cell_type": "markdown",
   "id": "9b98bf33",
   "metadata": {},
   "source": [
    "# Install and Import Dependencies"
   ]
  },
  {
   "cell_type": "code",
   "execution_count": null,
   "id": "482ef999",
   "metadata": {},
   "outputs": [],
   "source": [
    "#for window (cpu only)\n",
    "!pip install torch torchvision torchaudio"
   ]
  },
  {
   "cell_type": "code",
   "execution_count": null,
   "id": "d06afba0",
   "metadata": {},
   "outputs": [],
   "source": [
    "!git clone https://github.com/ultralytics/yolov5\n",
    "!cd yolov5 & pip install -r requirements.txt"
   ]
  },
  {
   "cell_type": "code",
   "execution_count": null,
   "id": "e71f3d0e",
   "metadata": {},
   "outputs": [],
   "source": [
    "import torch\n",
    "import numpy as np\n",
    "import cv2"
   ]
  },
  {
   "cell_type": "markdown",
   "id": "c81d6a45",
   "metadata": {},
   "source": [
    "# Load Model"
   ]
  },
  {
   "cell_type": "code",
   "execution_count": null,
   "id": "745aaa61",
   "metadata": {
    "scrolled": true
   },
   "outputs": [],
   "source": [
    "# set path according which trained model need.\n",
    "model = torch.hub.load('ultralytics/yolov5', 'custom', path='yolov5/runs/train/exp13/weights/best.pt', force_reload=True)"
   ]
  },
  {
   "cell_type": "markdown",
   "id": "d7727e44",
   "metadata": {},
   "source": [
    "# Start Detecting"
   ]
  },
  {
   "cell_type": "code",
   "execution_count": null,
   "id": "44a37a7c",
   "metadata": {
    "scrolled": true
   },
   "outputs": [],
   "source": [
    "import winsound\n",
    "cap = cv2.VideoCapture(0)\n",
    "count = 0\n",
    "while cap.isOpened():\n",
    "    ret, frame = cap.read()\n",
    "\n",
    "    # Make detections\n",
    "    results = model(frame)\n",
    "    output = [str(i) for i in results.pandas().xyxy[0]['name']]\n",
    "    if('close' in output or 'yawn' in output):\n",
    "        count = count+1\n",
    "        if(count>5):                 # if more than 5 frame have closed eyes then start alert\n",
    "            winsound.Beep(1000,100)\n",
    "    else:\n",
    "        count = 0\n",
    "    cv2.imshow('YOLO', np.squeeze(results.render()))\n",
    "\n",
    "    if cv2.waitKey(10) & 0xFF == ord('q'):\n",
    "        break\n",
    "cap.release()\n",
    "cv2.destroyAllWindows()"
   ]
  }
 ],
 "metadata": {
  "kernelspec": {
   "display_name": "Python 3 (ipykernel)",
   "language": "python",
   "name": "python3"
  },
  "language_info": {
   "codemirror_mode": {
    "name": "ipython",
    "version": 3
   },
   "file_extension": ".py",
   "mimetype": "text/x-python",
   "name": "python",
   "nbconvert_exporter": "python",
   "pygments_lexer": "ipython3",
   "version": "3.8.10"
  }
 },
 "nbformat": 4,
 "nbformat_minor": 5
}
